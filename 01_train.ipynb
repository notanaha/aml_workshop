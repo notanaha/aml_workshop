{
 "cells": [
  {
   "cell_type": "markdown",
   "metadata": {},
   "source": [
    "# Azure ML training "
   ]
  },
  {
   "cell_type": "code",
   "execution_count": null,
   "metadata": {
    "gather": {
     "logged": 1756601313247
    }
   },
   "outputs": [],
   "source": [
    "import os\n",
    "import pandas as pd\n",
    "\n",
    "from azure.ai.ml import MLClient\n",
    "from azure.ai.ml import command, Input, Output\n",
    "from azure.ai.ml.entities import Data\n",
    "from azure.ai.ml.entities import Model\n",
    "from azure.ai.ml.entities import Environment, BuildContext\n",
    "from azure.ai.ml.constants import AssetTypes\n",
    "from azure.identity import DefaultAzureCredential\n",
    "\n",
    "from dotenv import load_dotenv\n",
    "load_dotenv(override=True)"
   ]
  },
  {
   "cell_type": "markdown",
   "metadata": {
    "nteract": {
     "transient": {
      "deleting": false
     }
    }
   },
   "source": [
    "### Authentication\n",
    "👉 \n",
    "##### [Azure Machine Learning のリソースとワークフローの認証を設定する](https://learn.microsoft.com/ja-jp/azure/machine-learning/how-to-setup-authentication?view=azureml-api-2&tabs=sdk)"
   ]
  },
  {
   "cell_type": "markdown",
   "metadata": {},
   "source": [
    "<h5> Azure ML Client の設定 </h5>\n",
    "環境変数からAzureの認証情報を取得し、MLClientを初期化します。"
   ]
  },
  {
   "cell_type": "code",
   "execution_count": null,
   "metadata": {
    "gather": {
     "logged": 1756601316384
    }
   },
   "outputs": [],
   "source": [
    "subscription_id = os.getenv(\"SUBSCRIPTION_ID\")\n",
    "resource_group = os.getenv(\"RESOURCE_GROUP\")\n",
    "workspace = os.getenv(\"AML_WORKSPACE_NAME\")\n",
    "ml_client = MLClient(DefaultAzureCredential(), subscription_id, resource_group, workspace)"
   ]
  },
  {
   "attachments": {},
   "cell_type": "markdown",
   "metadata": {},
   "source": [
    "### Register Data\n",
    "👉 \n",
    "##### [データ資産の作成と管理](https://learn.microsoft.com/ja-jp/azure/machine-learning/how-to-create-data-assets?view=azureml-api-2&tabs=python)"
   ]
  },
  {
   "cell_type": "markdown",
   "metadata": {},
   "source": [
    "<h5> データセットの登録 </h5>\n",
    "CSVファイルをAzure ML にデータセットとして登録します。"
   ]
  },
  {
   "cell_type": "code",
   "execution_count": null,
   "metadata": {
    "gather": {
     "logged": 1756601375200
    }
   },
   "outputs": [],
   "source": [
    "data_uri = \"./diabetes_data.csv\"\n",
    "\n",
    "data = Data(\n",
    "    path = data_uri,\n",
    "#    type = AssetTypes.URI_FOLDER,\n",
    "    type = AssetTypes.URI_FILE,\n",
    "    description = \"test for demo\",\n",
    "    name = \"diabetes_data_01\",\n",
    "    version = '1'\n",
    ")\n",
    "\n",
    "ml_client.data.create_or_update(data)"
   ]
  },
  {
   "cell_type": "markdown",
   "metadata": {
    "nteract": {
     "transient": {
      "deleting": false
     }
    }
   },
   "source": [
    "### Environment\n",
    "👉\n",
    "##### [CLI & SDK (v2) を使用して Azure Machine Learning 環境を管理する](https://learn.microsoft.com/ja-jp/azure/machine-learning/how-to-manage-environments-v2?view=azureml-api-2&tabs=python)\n",
    "\n",
    "need to wait for the image build to complete"
   ]
  },
  {
   "cell_type": "markdown",
   "metadata": {},
   "source": [
    "<h5> カスタム環境の作成</h5>\n",
    "Dockerイメージとcondaファイルを使用してカスタム実行環境を作成します。"
   ]
  },
  {
   "cell_type": "code",
   "execution_count": null,
   "metadata": {
    "gather": {
     "logged": 1756602512107
    }
   },
   "outputs": [],
   "source": [
    "env_docker_image = Environment(\n",
    "    name=\"diabetes-env-01\",\n",
    "    image= \"mcr.microsoft.com/azureml/openmpi4.1.0-ubuntu20.04\",\n",
    "    conda_file = \"./environments/diabetes-env-01.yml\",\n",
    "    description=\"test for diabetes\",\n",
    "    version = \"1\"\n",
    "    )\n",
    "ml_client.environments.create_or_update(env_docker_image)"
   ]
  },
  {
   "attachments": {},
   "cell_type": "markdown",
   "metadata": {},
   "source": [
    "## Job\n",
    "👉\n",
    "##### [Azure Machine Learning CLI、SDK、REST API を使用してモデルをトレーニングする](https://learn.microsoft.com/ja-jp/azure/machine-learning/how-to-train-model?view=azureml-api-2&tabs=python)"
   ]
  },
  {
   "cell_type": "markdown",
   "metadata": {},
   "source": [
    "<h5>トレーニングジョブの実行（カスタム環境使用）</h5>\n",
    "カスタム環境とカスタム出力パスを使用してモデルのトレーニングジョブを実行します。"
   ]
  },
  {
   "cell_type": "code",
   "execution_count": null,
   "metadata": {
    "gather": {
     "logged": 1756608804575
    }
   },
   "outputs": [],
   "source": [
    "job = command(\n",
    "    experiment_name=\"train-diabetes-oh4ml-001\",\n",
    "    code=\"./scripts\",\n",
    "    command=\"python train-diabetes.py \\\n",
    "        --input_data ${{inputs.diabetes_data}} \\\n",
    "        --output_dir ${{outputs.output_dir}} \\\n",
    "        --alpha ${{inputs.alpha}}\", \n",
    "    inputs={\n",
    "        \"diabetes_data\": Input(\n",
    "            type=AssetTypes.URI_FILE,\n",
    "            path=\"diabetes_data_01@latest\",\n",
    "        ),\n",
    "        \"alpha\": 0.03,\n",
    "    },\n",
    "    outputs={\n",
    "        \"output_dir\": Output(     \n",
    "            type=\"uri_folder\",\n",
    "            path=\"azureml://datastores/workspaceblobstore/paths/diabetes_oh4ml-test/\",\n",
    "            mode=\"mount\"\n",
    "        )\n",
    "    },\n",
    "    environment=\"diabetes-env-01@latest\",\n",
    "    compute=\"demo-cpucluster1\"\n",
    ")\n",
    "\n",
    "# submit the command\n",
    "returned_job = ml_client.create_or_update(job)\n",
    "# get a URL for the status of the job\n",
    "returned_job.services[\"Studio\"].endpoint"
   ]
  },
  {
   "attachments": {},
   "cell_type": "markdown",
   "metadata": {},
   "source": [
    "## Job #2\n",
    "👉\n",
    "##### Use Default output folder and  Curated Environment"
   ]
  },
  {
   "cell_type": "markdown",
   "metadata": {},
   "source": [
    "<h5>トレーニングジョブの実行（キュレート環境使用）</h5>\n",
    "デフォルトの出力フォルダーとキュレートされた環境を使用してジョブを実行します。"
   ]
  },
  {
   "cell_type": "code",
   "execution_count": null,
   "metadata": {
    "gather": {
     "logged": 1756613012813
    }
   },
   "outputs": [],
   "source": [
    "job = command(\n",
    "    experiment_name=\"train-diabetes-oh4ml-001\",\n",
    "    code=\"./scripts\",\n",
    "    command=\"python train-diabetes.py \\\n",
    "        --input_data ${{inputs.diabetes_data}} \\\n",
    "        --alpha ${{inputs.alpha}}\",\n",
    "    inputs={\n",
    "        \"diabetes_data\": Input(\n",
    "            type=AssetTypes.URI_FILE,\n",
    "            path=\"diabetes_data_01@latest\",\n",
    "        ),\n",
    "        \"alpha\": 0.03,\n",
    "    },\n",
    "    environment=\"azureml://registries/azureml/environments/sklearn-1.5/labels/latest\",\n",
    "    compute=\"demo-cpucluster1\"\n",
    ")\n",
    "\n",
    "# submit the command\n",
    "returned_job = ml_client.create_or_update(job)\n",
    "# get a URL for the status of the job\n",
    "returned_job.services[\"Studio\"].endpoint"
   ]
  },
  {
   "attachments": {},
   "cell_type": "markdown",
   "metadata": {},
   "source": [
    "### Register Model\n",
    "👉\n",
    "\n",
    "##### [Azure Machine Learning で登録済みモデルを操作する](https://learn.microsoft.com/ja-jp/azure/machine-learning/how-to-manage-models?view=azureml-api-2&tabs=python)"
   ]
  },
  {
   "cell_type": "markdown",
   "metadata": {},
   "source": [
    "<h5>モデルの登録（ジョブ出力から）</h5>\n",
    "実行済みのジョブの出力からトレーニング済みモデルを登録します。"
   ]
  },
  {
   "cell_type": "code",
   "execution_count": null,
   "metadata": {
    "gather": {
     "logged": 1756616057208
    }
   },
   "outputs": [],
   "source": [
    "job_name = returned_job.name\n",
    "\n",
    "file_model = Model(\n",
    "#    path=f\"azureml://jobs/{job_name}/outputs/paths/model/\",\n",
    "    path=f\"runs:/{job_name}/outputs/\",\n",
    "    type=AssetTypes.MLFLOW_MODEL,\n",
    "    name=\"diabetes_model_01\",\n",
    "    description=\"Model created from blob storage.\",\n",
    ")\n",
    "ml_client.models.create_or_update(file_model)"
   ]
  },
  {
   "cell_type": "markdown",
   "metadata": {
    "nteract": {
     "transient": {
      "deleting": false
     }
    }
   },
   "source": [
    "##### Register from blob storage"
   ]
  },
  {
   "cell_type": "markdown",
   "metadata": {},
   "source": [
    "<h5>モデルの登録（Blobストレージから）</h5>\n",
    "Blobストレージに保存されたモデルを直接登録します。"
   ]
  },
  {
   "cell_type": "code",
   "execution_count": null,
   "metadata": {
    "gather": {
     "logged": 1756613995974
    }
   },
   "outputs": [],
   "source": [
    "file_model = Model(\n",
    "    path=\"azureml://datastores/workspaceblobstore/paths/diabetes_oh4ml-test/\",\n",
    "    type=AssetTypes.MLFLOW_MODEL,\n",
    "    name=\"diabetes_model_test\",\n",
    "    description=\"Model created from blob storage.\",\n",
    ")\n",
    "ml_client.models.create_or_update(file_model)"
   ]
  }
 ],
 "metadata": {
  "kernel_info": {
   "name": "python310-sdkv2"
  },
  "kernelspec": {
   "display_name": "Python 3.10 - SDK v2",
   "language": "python",
   "name": "python310-sdkv2"
  },
  "language_info": {
   "codemirror_mode": {
    "name": "ipython",
    "version": 3
   },
   "file_extension": ".py",
   "mimetype": "text/x-python",
   "name": "python",
   "nbconvert_exporter": "python",
   "pygments_lexer": "ipython3",
   "version": "3.10.18"
  },
  "microsoft": {
   "host": {
    "AzureML": {
     "notebookHasBeenCompleted": true
    }
   },
   "ms_spell_check": {
    "ms_spell_check_language": "en"
   }
  },
  "nteract": {
   "version": "nteract-front-end@1.0.0"
  }
 },
 "nbformat": 4,
 "nbformat_minor": 1
}
