{
  "cells": [
    {
      "cell_type": "markdown",
      "id": "6825f483",
      "metadata": {},
      "source": [
        "# Azure ML Pipeline"
      ]
    },
    {
      "cell_type": "markdown",
      "id": "aa9f63c1",
      "metadata": {},
      "source": [
        "Azure ML パイプラインによって、機械学習の個々のタスクをひとつのステップとして扱い、それら全体をひとつの実行単位として扱うことができます。この仕組みによって MLOps のオペレーションを簡素化します。\n",
        "\n",
        "Azure machine learning pipeline allows each machine learning task to be treated as as step of a pipeline, while managing the entire workflow as a single execution unit. This mechanism simplifies MLOps operations."
      ]
    },
    {
      "cell_type": "markdown",
      "id": "4b9d3673",
      "metadata": {},
      "source": [
        "<p align=\"center\">\n",
        "  <img src=\"./pipeline.png\" alt=\"Pipeline Diagram\" width=\"300\"/>\n",
        "</p>"
      ]
    },
    {
      "cell_type": "code",
      "execution_count": null,
      "id": "f9c3cc96",
      "metadata": {
        "gather": {
          "logged": 1756709998502
        }
      },
      "outputs": [],
      "source": [
        "# import required libraries\n",
        "from azure.identity import DefaultAzureCredential, InteractiveBrowserCredential\n",
        "from azure.ai.ml import dsl, Input, Output, MLClient, load_component\n",
        "from azure.ai.ml.dsl import pipeline\n",
        "from azure.ai.ml.constants import AssetTypes"
      ]
    },
    {
      "cell_type": "markdown",
      "id": "b70acd56",
      "metadata": {},
      "source": [
        "<h5> Azure認証とMLClientの設定</h5>\n",
        "Azureへの認証を設定し、ワークスペースのMLClientを初期化します。"
      ]
    },
    {
      "cell_type": "code",
      "execution_count": null,
      "id": "b773bcc1",
      "metadata": {
        "gather": {
          "logged": 1756710001552
        }
      },
      "outputs": [],
      "source": [
        "try:\n",
        "    credential = DefaultAzureCredential()\n",
        "    # Check if given credential can get token successfully.\n",
        "    credential.get_token(\"https://management.azure.com/.default\")\n",
        "except Exception as ex:\n",
        "    # Fall back to InteractiveBrowserCredential in case DefaultAzureCredential not work\n",
        "    credential = InteractiveBrowserCredential()\n",
        "\n",
        "# Get a handle to workspace\n",
        "ml_client = MLClient.from_config(credential=credential)"
      ]
    },
    {
      "cell_type": "markdown",
      "id": "31feaf08-0ee1-4db5-8c15-5db0102e0407",
      "metadata": {
        "nteract": {
          "transient": {
            "deleting": false
          }
        }
      },
      "source": [
        "### COMPONENTS\n",
        "👉 \n",
        "##### [Azure Machine Learning コンポーネントとは](https://learn.microsoft.com/ja-jp/azure/machine-learning/concept-component?view=azureml-api-2)"
      ]
    },
    {
      "attachments": {},
      "cell_type": "markdown",
      "id": "13410b10",
      "metadata": {},
      "source": [
        "## Load Components"
      ]
    },
    {
      "cell_type": "markdown",
      "id": "1010b99b",
      "metadata": {},
      "source": [
        "<h5> パイプラインコンポーネントの読み込み</h5>\n",
        "YAMLファイルで定義されたトレーニング、評価、登録のコンポーネントを読み込みます。"
      ]
    },
    {
      "cell_type": "code",
      "execution_count": null,
      "id": "a246dd73",
      "metadata": {
        "gather": {
          "logged": 1756710002805
        }
      },
      "outputs": [],
      "source": [
        "parent_dir = \"component\"\n",
        "train_component = load_component(source=parent_dir + \"./train.yml\")\n",
        "evaluate_component = load_component(source=parent_dir + \"./evaluate.yml\")\n",
        "register_component = load_component(source=parent_dir + \"./register.yml\")"
      ]
    },
    {
      "attachments": {},
      "cell_type": "markdown",
      "id": "8468ec26",
      "metadata": {},
      "source": [
        "##### Sample to Register components for reuse, but not used in this script"
      ]
    },
    {
      "cell_type": "markdown",
      "id": "cfa8c64d",
      "metadata": {},
      "source": [
        "<h5> コンポーネントの登録（サンプル）</h5>\n",
        "再利用のためにコンポーネントをワークスペースに登録するサンプルコードです。"
      ]
    },
    {
      "cell_type": "code",
      "execution_count": null,
      "id": "228a337b",
      "metadata": {
        "gather": {
          "logged": 1756710002984
        }
      },
      "outputs": [],
      "source": [
        "'''# get or create component\n",
        "try:\n",
        "    train_component = ml_client.components.get(\n",
        "        name=train_component.name, version=train_component.version\n",
        "    )\n",
        "except:\n",
        "    train_component = ml_client.components.create_or_update(train_component)\n",
        "\n",
        "print(train_component)'''"
      ]
    },
    {
      "cell_type": "markdown",
      "id": "f818863a-06d6-45bf-a723-af90034b2d6d",
      "metadata": {
        "nteract": {
          "transient": {
            "deleting": false
          }
        }
      },
      "source": [
        "### PIPELINE\n",
        "👉 \n",
        "##### [チュートリアル: 運用環境の機械学習パイプラインを作成する](https://learn.microsoft.com/ja-jp/azure/machine-learning/tutorial-pipeline-python-sdk?view=azureml-api-2)"
      ]
    },
    {
      "attachments": {},
      "cell_type": "markdown",
      "id": "0ce99c23",
      "metadata": {},
      "source": [
        "## Define pipeline"
      ]
    },
    {
      "cell_type": "markdown",
      "id": "4f2b09f5",
      "metadata": {},
      "source": [
        "<h5> パイプラインの定義</h5>\n",
        "トレーニング→評価→登録の順序でコンポーネントを実行するパイプラインを定義します。"
      ]
    },
    {
      "cell_type": "code",
      "execution_count": null,
      "id": "8f371abd",
      "metadata": {
        "gather": {
          "logged": 1756710003146
        }
      },
      "outputs": [],
      "source": [
        "@dsl.pipeline(\n",
        "    compute=\"demo-cpucluster1\",\n",
        "    description=\"diabetes pipeline test\"\n",
        ")\n",
        "def pipeline_diabetes_01(\n",
        "    diabetes_data,\n",
        "    alpha,\n",
        "    experiment_name,\n",
        "    model_name\n",
        "):\n",
        "    # using data_prep_function like a python call with its own inputs\n",
        "    train_job = train_component(\n",
        "        input_data = diabetes_data,\n",
        "        alpha = alpha\n",
        "    )\n",
        "    evaluate_job = evaluate_component(\n",
        "        experiment_name = experiment_name,\n",
        "        model_dir = train_job.outputs.output_dir\n",
        "    )\n",
        "    register_job = register_component(\n",
        "        model_name = model_name,\n",
        "        model_path = train_job.outputs.output_dir,\n",
        "        deploy_flag = evaluate_job.outputs.deploy_flag\n",
        "    )  \n",
        "    # a pipeline returns a dictionary of outputs\n",
        "    # keys will code for the pipeline output identifier\n",
        "    return {\n",
        "        \"train_job\": train_job.outputs.output_dir,\n",
        "        \"evaluate_job\": evaluate_job.outputs.deploy_flag\n",
        "    }"
      ]
    },
    {
      "attachments": {},
      "cell_type": "markdown",
      "id": "e0255521",
      "metadata": {},
      "source": [
        "## Instantiate pipeline"
      ]
    },
    {
      "cell_type": "markdown",
      "id": "39049037",
      "metadata": {},
      "source": [
        "<h5>実験名の設定</h5>\n",
        "パイプライン実行用の実験名を設定します。"
      ]
    },
    {
      "cell_type": "code",
      "execution_count": null,
      "id": "a8863ef8-154f-4d8e-a292-b610868d2852",
      "metadata": {
        "gather": {
          "logged": 1756710003277
        }
      },
      "outputs": [],
      "source": [
        "experiment_name = \"diabetes_training_pipeline4\""
      ]
    },
    {
      "cell_type": "markdown",
      "id": "60def22c",
      "metadata": {},
      "source": [
        "<h5> パイプラインのインスタンス化</h5>\n",
        "具体的なパラメータを指定してパイプラインのインスタンスを作成します。"
      ]
    },
    {
      "cell_type": "code",
      "execution_count": null,
      "id": "927e4b99",
      "metadata": {
        "gather": {
          "logged": 1756710005557
        }
      },
      "outputs": [],
      "source": [
        "# Let's instantiate the pipeline with the parameters of our choice\n",
        "pipeline = pipeline_diabetes_01(\n",
        "    diabetes_data = Input(type=AssetTypes.URI_FILE, path=\"diabetes_data_01@latest\"),\n",
        "    alpha = 0.03,\n",
        "    model_name=\"diabetes_model_pipeline\",\n",
        "    experiment_name = experiment_name # this name is used for searching MLFlow exp name and need to coincide to pipeline's exp name \n",
        ")"
      ]
    },
    {
      "attachments": {},
      "cell_type": "markdown",
      "id": "b7fe718f",
      "metadata": {},
      "source": [
        "## Run pipeline"
      ]
    },
    {
      "cell_type": "markdown",
      "id": "5e75d45a",
      "metadata": {},
      "source": [
        "<h5>パイプラインの実行</h5>\n",
        "設定されたパイプラインをAzure ML上で実行します。"
      ]
    },
    {
      "cell_type": "code",
      "execution_count": null,
      "id": "f48bf96f",
      "metadata": {
        "gather": {
          "logged": 1756710081598
        }
      },
      "outputs": [],
      "source": [
        "# submit the pipeline job\n",
        "pipeline_job = ml_client.jobs.create_or_update(\n",
        "    pipeline,\n",
        "    # Project's name\n",
        "    experiment_name=experiment_name,\n",
        ")"
      ]
    }
  ],
  "metadata": {
    "kernel_info": {
      "name": "python310-sdkv2"
    },
    "kernelspec": {
      "display_name": "Python 3.10 - SDK v2",
      "language": "python",
      "name": "python310-sdkv2"
    },
    "language_info": {
      "codemirror_mode": {
        "name": "ipython",
        "version": 3
      },
      "file_extension": ".py",
      "mimetype": "text/x-python",
      "name": "python",
      "nbconvert_exporter": "python",
      "pygments_lexer": "ipython3",
      "version": "3.10.18"
    },
    "microsoft": {
      "host": {
        "AzureML": {
          "notebookHasBeenCompleted": true
        }
      },
      "ms_spell_check": {
        "ms_spell_check_language": "en"
      }
    },
    "nteract": {
      "version": "nteract-front-end@1.0.0"
    },
    "vscode": {
      "interpreter": {
        "hash": "69873db2baa386ed3a723fb7c9f8d59af43aa5f9dece46002aff32febc16f8e2"
      }
    }
  },
  "nbformat": 4,
  "nbformat_minor": 5
}
