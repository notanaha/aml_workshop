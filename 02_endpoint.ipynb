{
 "cells": [
  {
   "cell_type": "markdown",
   "metadata": {},
   "source": [
    "# Azure ML Managed Endpoint"
   ]
  },
  {
   "cell_type": "code",
   "execution_count": null,
   "metadata": {
    "gather": {
     "logged": 1756624205782
    }
   },
   "outputs": [],
   "source": [
    "import os\n",
    "\n",
    "from azure.ai.ml import MLClient, Input\n",
    "from azure.identity import DefaultAzureCredential\n",
    "\n",
    "from azure.ai.ml.constants import BatchDeploymentOutputAction, AssetTypes\n",
    "from azure.ai.ml.entities import BatchEndpoint, BatchDeployment, BatchRetrySettings, ModelBatchDeployment, CodeConfiguration, ModelBatchDeploymentSettings, Data\n",
    "from azure.ai.ml.entities import ManagedOnlineEndpoint, ManagedOnlineDeployment, Model, Environment\n",
    "\n",
    "from dotenv import load_dotenv\n",
    "load_dotenv(override=True)"
   ]
  },
  {
   "cell_type": "markdown",
   "metadata": {},
   "source": [
    "<h5>Azure ML Client の設定</h5>\n",
    "環境変数からAzureの認証情報を取得し、MLClientを初期化します。"
   ]
  },
  {
   "cell_type": "code",
   "execution_count": null,
   "metadata": {
    "gather": {
     "logged": 1756618806054
    }
   },
   "outputs": [],
   "source": [
    "subscription_id = os.getenv(\"SUBSCRIPTION_ID\")\n",
    "resource_group = os.getenv(\"RESOURCE_GROUP\")\n",
    "workspace = os.getenv(\"AML_WORKSPACE_NAME\")\n",
    "ml_client = MLClient(DefaultAzureCredential(), subscription_id, resource_group, workspace)"
   ]
  },
  {
   "cell_type": "markdown",
   "metadata": {},
   "source": [
    "### Batch Endpoint\n",
    "👉\n",
    "##### [バッチ エンドポイントにスコアリング用のモデルをデプロイする](https://learn.microsoft.com/en-us/azure/machine-learning/how-to-use-batch-model-deployments?view=azureml-api-2&tabs=python)"
   ]
  },
  {
   "cell_type": "markdown",
   "metadata": {},
   "source": [
    "<h5>バッチエンドポイントの作成</h5>\n",
    "大量データの一括推論用のバッチエンドポイントを作成します。"
   ]
  },
  {
   "cell_type": "code",
   "execution_count": null,
   "metadata": {
    "gather": {
     "logged": 1756619618107
    }
   },
   "outputs": [],
   "source": [
    "# create a batch endpoint\n",
    "endpoint = BatchEndpoint(\n",
    "    name=\"ep-batch-oh4ml-001\",\n",
    "    description=\"this is a sample batch endpoint\",\n",
    "    tags={\"type\": \"test\"},\n",
    ")\n",
    "\n",
    "ml_client.begin_create_or_update(endpoint)"
   ]
  },
  {
   "cell_type": "markdown",
   "metadata": {},
   "source": [
    "### Deployment"
   ]
  },
  {
   "cell_type": "markdown",
   "metadata": {},
   "source": [
    "<h5>バッチデプロイメントの作成</h5>\n",
    "登録済みモデルを使用してバッチ処理用のデプロイメントを作成します。"
   ]
  },
  {
   "cell_type": "code",
   "execution_count": null,
   "metadata": {
    "gather": {
     "logged": 1756620963678
    }
   },
   "outputs": [],
   "source": [
    "deployment = ModelBatchDeployment(\n",
    "    name=\"batch-deployment-01\",\n",
    "    description=\"batch deployment test\",\n",
    "    endpoint_name=\"ep-batch-oh4ml-001\",\n",
    "    model=\"diabetes_model_01@latest\",\n",
    "    code_configuration=CodeConfiguration(\n",
    "        code=\"./scripts\", scoring_script=\"score-diabetes.py\"\n",
    "    ),\n",
    "    environment=\"diabetes-env-01@latest\",\n",
    "    compute=\"demo-cpucluster1\",\n",
    "    settings=ModelBatchDeploymentSettings(\n",
    "        max_concurrency_per_instance=2,\n",
    "        mini_batch_size=10,\n",
    "        instance_count=2,\n",
    "        output_action=BatchDeploymentOutputAction.APPEND_ROW,\n",
    "        output_file_name=\"predictions.csv\",\n",
    "        retry_settings=BatchRetrySettings(max_retries=3, timeout=30),\n",
    "        logging_level=\"info\",\n",
    "    ),\n",
    ")\n",
    "\n",
    "ml_client.begin_create_or_update(deployment).result()"
   ]
  },
  {
   "cell_type": "markdown",
   "metadata": {},
   "source": [
    "<h5> デフォルトデプロイメントの設定</h5>\n",
    "作成したデプロイメントをエンドポイントのデフォルトとして設定します。"
   ]
  },
  {
   "cell_type": "code",
   "execution_count": null,
   "metadata": {
    "gather": {
     "logged": 1756621873542
    }
   },
   "outputs": [],
   "source": [
    "endpoint = ml_client.batch_endpoints.get(\"ep-batch-oh4ml-001\")\n",
    "endpoint.defaults.deployment_name = deployment.name\n",
    "ml_client.batch_endpoints.begin_create_or_update(endpoint).result()"
   ]
  },
  {
   "cell_type": "markdown",
   "metadata": {
    "nteract": {
     "transient": {
      "deleting": false
     }
    }
   },
   "source": [
    "##### Upload Data for test"
   ]
  },
  {
   "cell_type": "markdown",
   "metadata": {},
   "source": [
    "<h5> テスト用データの登録</h5>\n",
    "バッチ推論で使用するテスト用データセットを登録します。"
   ]
  },
  {
   "cell_type": "code",
   "execution_count": null,
   "metadata": {
    "gather": {
     "logged": 1756622200020
    }
   },
   "outputs": [],
   "source": [
    "data_uri = \"./diabetes_query.csv\"\n",
    "\n",
    "data = Data(\n",
    "    path = data_uri,\n",
    "#    type = AssetTypes.URI_FOLDER,\n",
    "    type = AssetTypes.URI_FILE,\n",
    "    description = \"test for demo\",\n",
    "    name = \"diabetes_query_01\",\n",
    "    version = '1'\n",
    ")\n",
    "\n",
    "ml_client.data.create_or_update(data)"
   ]
  },
  {
   "cell_type": "markdown",
   "metadata": {},
   "source": [
    "### Invoke"
   ]
  },
  {
   "cell_type": "markdown",
   "metadata": {},
   "source": [
    "<h5> バッチエンドポイントの実行</h5>\n",
    "登録したテストデータを使用してバッチ推論ジョブを実行します。"
   ]
  },
  {
   "cell_type": "code",
   "execution_count": null,
   "metadata": {
    "gather": {
     "logged": 1756623751986
    }
   },
   "outputs": [],
   "source": [
    "input = Input(\n",
    "    type = AssetTypes.URI_FILE,\n",
    "    #path = \"azureml://datastores/workspaceblobstore/paths/diabetes/diabetes_query.csv\"\n",
    "    path = \"diabetes_query_01@latest\" #/versions/2\"\n",
    ")\n",
    "\n",
    "# invoke the endpoint for batch scoring job\n",
    "job = ml_client.batch_endpoints.invoke(\n",
    "    endpoint_name = \"ep-batch-oh4ml-001\",\n",
    "    input = input,\n",
    "    #deployment_name = \"batch-deployment-01\",  # name is not required as default deployment is set\n",
    "    params_override = [{\"mini_batch_size\": \"5\"}, {\"compute.instance_count\": \"2\"}],\n",
    ")"
   ]
  },
  {
   "cell_type": "markdown",
   "metadata": {},
   "source": [
    "###  Get the details of the invoked job\n",
    "Let us get details and logs of the invoked job"
   ]
  },
  {
   "cell_type": "markdown",
   "metadata": {},
   "source": [
    "<h5> ジョブ実行状況の確認</h5>\n",
    "実行中のバッチジョブの状況とログを確認します。"
   ]
  },
  {
   "cell_type": "code",
   "execution_count": null,
   "metadata": {
    "gather": {
     "logged": 1756624171381
    }
   },
   "outputs": [],
   "source": [
    "# get the details of the job\n",
    "job_name = job.name\n",
    "batch_job = ml_client.jobs.get(name=job_name)\n",
    "print(batch_job.status)\n",
    "# stream the job logs\n",
    "ml_client.jobs.stream(name=job_name)"
   ]
  },
  {
   "cell_type": "markdown",
   "metadata": {},
   "source": [
    "### Online Endpoint\n",
    "👉\n",
    "##### [オンライン エンドポイントを使用して機械学習モデルをデプロイおよびスコア付けする](https://learn.microsoft.com/ja-jp/azure/machine-learning/how-to-deploy-online-endpoints?view=azureml-api-2&tabs=python)"
   ]
  },
  {
   "cell_type": "markdown",
   "metadata": {},
   "source": [
    "### Create Endpoint"
   ]
  },
  {
   "cell_type": "markdown",
   "metadata": {},
   "source": [
    "<h5>オンラインエンドポイントの作成</h5>\n",
    "リアルタイム推論用のオンラインエンドポイントを作成します。"
   ]
  },
  {
   "cell_type": "code",
   "execution_count": null,
   "metadata": {
    "gather": {
     "logged": 1756624500390
    }
   },
   "outputs": [],
   "source": [
    "online_endpoint_name = \"ep-online-oh4ml-01\"\n",
    "\n",
    "# create an online endpoint\n",
    "endpoint = ManagedOnlineEndpoint(\n",
    "    name=online_endpoint_name,\n",
    "    description=\"endpoint online oh4ml 01\",\n",
    "    auth_mode=\"key\",\n",
    "    tags={\"version\": \"001\"},\n",
    ")\n",
    "\n",
    "endpoint = ml_client.begin_create_or_update(endpoint)\n"
   ]
  },
  {
   "cell_type": "markdown",
   "metadata": {},
   "source": [
    "<h5>エンドポイント状態の確認</h5>\n",
    "作成したオンラインエンドポイントの状態を確認します。"
   ]
  },
  {
   "cell_type": "code",
   "execution_count": null,
   "metadata": {
    "gather": {
     "logged": 1756624565954
    }
   },
   "outputs": [],
   "source": [
    "endpoint = ml_client.online_endpoints.get(name=online_endpoint_name)\n",
    "\n",
    "print(\n",
    "    f'Endpint \"{endpoint.name}\" with provisioning state \"{endpoint.provisioning_state}\" is retrieved'\n",
    ")"
   ]
  },
  {
   "cell_type": "markdown",
   "metadata": {},
   "source": [
    "### Deploy model"
   ]
  },
  {
   "cell_type": "markdown",
   "metadata": {},
   "source": [
    "<h5>最新モデルバージョンの取得</h5>\n",
    "デプロイする登録済みモデルの最新バージョンを取得します。"
   ]
  },
  {
   "cell_type": "code",
   "execution_count": null,
   "metadata": {
    "gather": {
     "logged": 1756624622732
    }
   },
   "outputs": [],
   "source": [
    "# Let's pick the latest version of the model\n",
    "registered_model_name = \"diabetes_model_01\"\n",
    "\n",
    "latest_model_version = max(\n",
    "    [int(m.version) for m in ml_client.models.list(name=registered_model_name)]\n",
    ")\n",
    "print(\"latest model version is :\", latest_model_version)"
   ]
  },
  {
   "cell_type": "markdown",
   "metadata": {},
   "source": [
    "<h5> オンラインデプロイメントの作成</h5>\n",
    "取得したモデルを使用してオンライン推論用のデプロイメントを作成します。"
   ]
  },
  {
   "cell_type": "code",
   "execution_count": null,
   "metadata": {
    "gather": {
     "logged": 1756625223111
    }
   },
   "outputs": [],
   "source": [
    "# picking the model to deploy. Here we use the latest version of our registered model\n",
    "model = ml_client.models.get(name=registered_model_name, version=latest_model_version)\n",
    "\n",
    "\n",
    "# create an online deployment.\n",
    "blue_deployment = ManagedOnlineDeployment(\n",
    "    name=\"blue\",\n",
    "    endpoint_name=online_endpoint_name,\n",
    "    model=model,\n",
    "    instance_type=\"Standard_DS3_v2\",\n",
    "    instance_count=1,\n",
    ")\n",
    "\n",
    "blue_deployment = ml_client.begin_create_or_update(blue_deployment)"
   ]
  },
  {
   "cell_type": "markdown",
   "metadata": {},
   "source": [
    "<h5> Blue デプロイメントへのルーティング割合の設定</h5>\n",
    "Blue デプロイメントへのルーティングを 100% に変更します。"
   ]
  },
  {
   "cell_type": "code",
   "execution_count": null,
   "metadata": {},
   "outputs": [],
   "source": [
    "# Traffic routing: 100% to blue deployment\n",
    "# endpoint = ml_client.online_endpoints.get(name=online_endpoint_name)\n",
    "endpoint.traffic = {\"blue\": 100}\n",
    "ml_client.begin_create_or_update(endpoint).result()\n",
    "\n",
    "print(\"endpoint:\", online_endpoint_name)"
   ]
  },
  {
   "cell_type": "markdown",
   "metadata": {},
   "source": [
    "<h5>テスト用データの準備</h5>\n",
    "オンライン推論をテストするためのサンプルデータをJSONファイルで作成します。"
   ]
  },
  {
   "cell_type": "code",
   "execution_count": null,
   "metadata": {},
   "outputs": [],
   "source": [
    "%%writefile ./sample-request.json\n",
    "{\"input_data\": {\n",
    "    \"columns\": [\"age\", \"gender\", \"bmi\", \"bp\", \"s1\", \"s2\", \"s3\", \"s4\", \"s5\", \"s6\"],\n",
    "    \"data\":[\n",
    "      [0.038075906,0.050680119,0.061696207,0.021872386,-0.044223498,-0.034820763,-0.043400846,-0.002592262,0.019907486,-0.017646125]\n",
    "    ],\n",
    "    \"index\": [1]    \n",
    "  }}"
   ]
  },
  {
   "cell_type": "markdown",
   "metadata": {},
   "source": [
    "<h5>オンライン推論のテスト</h5>\n",
    "作成したテストデータを使用してオンラインエンドポイントの推論をテストします。"
   ]
  },
  {
   "cell_type": "code",
   "execution_count": null,
   "metadata": {
    "gather": {
     "logged": 1756626340051
    }
   },
   "outputs": [],
   "source": [
    "online_endpoint_name = \"ep-online-oh4ml-01\"\n",
    "\n",
    "# test the blue deployment with some sample data\n",
    "ml_client.online_endpoints.invoke(\n",
    "    endpoint_name=online_endpoint_name,\n",
    "    request_file=\"./sample-request.json\",\n",
    "    deployment_name=\"blue\",\n",
    ")"
   ]
  },
  {
   "cell_type": "markdown",
   "metadata": {},
   "source": [
    "### Checking Credential"
   ]
  },
  {
   "cell_type": "markdown",
   "metadata": {},
   "source": [
    "<h5>認証キーの取得</h5>\n",
    "外部アプリケーションからエンドポイントにアクセスするための認証キーを取得します。"
   ]
  },
  {
   "cell_type": "code",
   "execution_count": null,
   "metadata": {
    "gather": {
     "logged": 1756626351576
    }
   },
   "outputs": [],
   "source": [
    "endpoint_cred = ml_client.online_endpoints.get_keys(name=online_endpoint_name).primary_key\n",
    "print(endpoint_cred)"
   ]
  },
  {
   "cell_type": "markdown",
   "metadata": {
    "nteract": {
     "transient": {
      "deleting": false
     }
    }
   },
   "source": [
    "### Deleting Online Endpoint"
   ]
  },
  {
   "cell_type": "markdown",
   "metadata": {},
   "source": [
    "<h5> オンラインエンドポイントの削除</h5>\n",
    "テスト完了後、コスト削減のためにオンラインエンドポイントを削除します。"
   ]
  },
  {
   "cell_type": "code",
   "execution_count": null,
   "metadata": {
    "gather": {
     "logged": 1756626542042
    }
   },
   "outputs": [],
   "source": [
    "ml_client.online_endpoints.begin_delete(name=online_endpoint_name)"
   ]
  }
 ],
 "metadata": {
  "description": {
   "description": "Create and test batch endpoint and deployement"
  },
  "kernel_info": {
   "name": "python3-azureml"
  },
  "kernelspec": {
   "display_name": "Python 3.10 - SDK v2",
   "name": "python310-sdkv2"
  },
  "language_info": {
   "codemirror_mode": {
    "name": "ipython",
    "version": 3
   },
   "file_extension": ".py",
   "mimetype": "text/x-python",
   "name": "python",
   "nbconvert_exporter": "python",
   "pygments_lexer": "ipython3",
   "version": "3.10.10"
  },
  "microsoft": {
   "host": {
    "AzureML": {
     "notebookHasBeenCompleted": true
    }
   },
   "ms_spell_check": {
    "ms_spell_check_language": "en"
   }
  },
  "nteract": {
   "version": "nteract-front-end@1.0.0"
  }
 },
 "nbformat": 4,
 "nbformat_minor": 4
}
